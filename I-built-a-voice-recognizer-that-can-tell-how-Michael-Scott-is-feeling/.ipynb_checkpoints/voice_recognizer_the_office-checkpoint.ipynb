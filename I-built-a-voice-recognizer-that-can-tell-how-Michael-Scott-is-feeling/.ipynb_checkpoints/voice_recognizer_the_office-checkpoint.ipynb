{
 "cells": [
  {
   "cell_type": "code",
   "execution_count": 2,
   "metadata": {},
   "outputs": [],
   "source": [
    "# Imports, ignore warnings\n",
    "import warnings\n",
    "warnings.filterwarnings('ignore')\n",
    "import os\n",
    "from tensorflow import keras\n",
    "os.environ['TF_CPP_MIN_LOG_LEVEL'] = '3'\n",
    "from keras.models import model_from_json\n",
    "import librosa\n",
    "import librosa.display\n",
    "import numpy as np\n",
    "import pandas as pd\n",
    "import matplotlib.pyplot as plt\n",
    "from sklearn.utils import shuffle"
   ]
  },
  {
   "cell_type": "code",
   "execution_count": 3,
   "metadata": {},
   "outputs": [],
   "source": [
    "# Read in the JSON file\n",
    "json_file = open('model.json', 'r')\n",
    "loaded_model_json = json_file.read()\n",
    "json_file.close()"
   ]
  },
  {
   "cell_type": "code",
   "execution_count": 4,
   "metadata": {},
   "outputs": [],
   "source": [
    "# Load the model from JSON \n",
    "loaded_model = model_from_json(loaded_model_json)"
   ]
  },
  {
   "cell_type": "code",
   "execution_count": 5,
   "metadata": {},
   "outputs": [
    {
     "name": "stdout",
     "output_type": "stream",
     "text": [
      "Loaded model from disk\n",
      "Model: \"sequential_1\"\n",
      "_________________________________________________________________\n",
      "Layer (type)                 Output Shape              Param #   \n",
      "=================================================================\n",
      "conv1d_7 (Conv1D)            (None, 216, 128)          768       \n",
      "_________________________________________________________________\n",
      "activation_8 (Activation)    (None, 216, 128)          0         \n",
      "_________________________________________________________________\n",
      "conv1d_8 (Conv1D)            (None, 216, 128)          82048     \n",
      "_________________________________________________________________\n",
      "activation_9 (Activation)    (None, 216, 128)          0         \n",
      "_________________________________________________________________\n",
      "dropout_3 (Dropout)          (None, 216, 128)          0         \n",
      "_________________________________________________________________\n",
      "max_pooling1d_2 (MaxPooling1 (None, 27, 128)           0         \n",
      "_________________________________________________________________\n",
      "conv1d_9 (Conv1D)            (None, 27, 128)           82048     \n",
      "_________________________________________________________________\n",
      "activation_10 (Activation)   (None, 27, 128)           0         \n",
      "_________________________________________________________________\n",
      "conv1d_10 (Conv1D)           (None, 27, 128)           82048     \n",
      "_________________________________________________________________\n",
      "activation_11 (Activation)   (None, 27, 128)           0         \n",
      "_________________________________________________________________\n",
      "conv1d_11 (Conv1D)           (None, 27, 128)           82048     \n",
      "_________________________________________________________________\n",
      "activation_12 (Activation)   (None, 27, 128)           0         \n",
      "_________________________________________________________________\n",
      "dropout_4 (Dropout)          (None, 27, 128)           0         \n",
      "_________________________________________________________________\n",
      "conv1d_12 (Conv1D)           (None, 27, 128)           82048     \n",
      "_________________________________________________________________\n",
      "activation_13 (Activation)   (None, 27, 128)           0         \n",
      "_________________________________________________________________\n",
      "flatten_2 (Flatten)          (None, 3456)              0         \n",
      "_________________________________________________________________\n",
      "dense_2 (Dense)              (None, 10)                34570     \n",
      "_________________________________________________________________\n",
      "activation_14 (Activation)   (None, 10)                0         \n",
      "=================================================================\n",
      "Total params: 445,578\n",
      "Trainable params: 445,578\n",
      "Non-trainable params: 0\n",
      "_________________________________________________________________\n"
     ]
    }
   ],
   "source": [
    "# Load weights into new model\n",
    "loaded_model.load_weights('saved_models/Emotion_Voice_Detection_Model.h5')\n",
    "print('Loaded model from disk')\n",
    "loaded_model.summary()"
   ]
  },
  {
   "cell_type": "code",
   "execution_count": 6,
   "metadata": {},
   "outputs": [
    {
     "data": {
      "text/plain": [
       "{'name': 'activation_14',\n",
       " 'trainable': True,\n",
       " 'dtype': 'float32',\n",
       " 'activation': 'softmax'}"
      ]
     },
     "execution_count": 6,
     "metadata": {},
     "output_type": "execute_result"
    }
   ],
   "source": [
    "loaded_model.layers[17].get_config()"
   ]
  },
  {
   "cell_type": "code",
   "execution_count": 7,
   "metadata": {},
   "outputs": [],
   "source": [
    "o = keras.optimizers.RMSprop(lr = 0.00001, decay = 1e-6)\n",
    "loaded_model.compile(loss ='categorical_crossentropy', optimizer = o, metrics = ['accuracy'])"
   ]
  },
  {
   "cell_type": "code",
   "execution_count": 11,
   "metadata": {},
   "outputs": [],
   "source": [
    "# Method for reading in the audio files and extracting features\n",
    "\"\"\"\n",
    "- d is the directory the audio files, default is the current working directory.\n",
    "- dur is the duration in seconds that will be read in.\n",
    "- For this CNN to work, dur must be 2.5\n",
    "\"\"\"\n",
    "\n",
    "def readAudioFiles(d, dur, sample_rate):\n",
    "    if d is None:\n",
    "        d = 'dir'\n",
    "        \n",
    "    df = pd.DataFrame(columns=['feature'])\n",
    "    file_names = []\n",
    "    i = 0\n",
    "    for audiofile in os.listdir(d):\n",
    "        if audiofile.endswith('.wav'):\n",
    "            # Load file using librosa\n",
    "            print(audiofile, 'loaded')\n",
    "            file_names.append(audiofile)\n",
    "            X, sr = librosa.load(os.path.join(d, audiofile), res_type = 'kaiser_fast', duration = dur , sr = sample_rate, offset = 0.5)\n",
    "            sr = np.array(sr)\n",
    "            # Extract the MFCCS\n",
    "            mfccs = np.mean(librosa.feature.mfcc(y = X, \n",
    "                                                sr = sr, \n",
    "                                                n_mfcc = 13),\n",
    "                                                axis=0)\n",
    "            feature = mfccs\n",
    "            # Add to data frame\n",
    "            df.loc[i] = [feature]\n",
    "            i += 1\n",
    "    df = pd.DataFrame(df['feature'].values.tolist())\n",
    "    df = shuffle(df)\n",
    "    df = df.fillna(0)\n",
    "    return df, file_names "
   ]
  },
  {
   "cell_type": "code",
   "execution_count": 12,
   "metadata": {},
   "outputs": [
    {
     "name": "stdout",
     "output_type": "stream",
     "text": [
      "She_Said_Michael.wav loaded\n",
      "Snake_Mongoose_Dwight_1.wav loaded\n",
      "Bankruptcy_Michael_1.wav loaded\n",
      "Don't_Touch_It_Michael_1.wav loaded\n",
      "ID_badges_Dwight_1.wav loaded\n",
      "Crackling_Bacon_Michael_1.wav loaded\n",
      "Deposed_King_Michael_1.wav loaded\n",
      "Stranger_On_Purpose_Dwight_1.wav loaded\n",
      "Commited_Crime_Dwight_1.wav loaded\n",
      "Ow_Oh_Not_Again_Dwight_1.wav loaded\n"
     ]
    }
   ],
   "source": [
    "audio_features, file_names = readAudioFiles(d = 'the-office-audio-clips', dur = 2.5, sample_rate = 44100)    "
   ]
  },
  {
   "cell_type": "code",
   "execution_count": 13,
   "metadata": {},
   "outputs": [
    {
     "data": {
      "text/html": [
       "<div>\n",
       "<style scoped>\n",
       "    .dataframe tbody tr th:only-of-type {\n",
       "        vertical-align: middle;\n",
       "    }\n",
       "\n",
       "    .dataframe tbody tr th {\n",
       "        vertical-align: top;\n",
       "    }\n",
       "\n",
       "    .dataframe thead th {\n",
       "        text-align: right;\n",
       "    }\n",
       "</style>\n",
       "<table border=\"1\" class=\"dataframe\">\n",
       "  <thead>\n",
       "    <tr style=\"text-align: right;\">\n",
       "      <th></th>\n",
       "      <th>0</th>\n",
       "      <th>1</th>\n",
       "      <th>2</th>\n",
       "      <th>3</th>\n",
       "      <th>4</th>\n",
       "      <th>5</th>\n",
       "      <th>6</th>\n",
       "      <th>7</th>\n",
       "      <th>8</th>\n",
       "      <th>9</th>\n",
       "      <th>...</th>\n",
       "      <th>206</th>\n",
       "      <th>207</th>\n",
       "      <th>208</th>\n",
       "      <th>209</th>\n",
       "      <th>210</th>\n",
       "      <th>211</th>\n",
       "      <th>212</th>\n",
       "      <th>213</th>\n",
       "      <th>214</th>\n",
       "      <th>215</th>\n",
       "    </tr>\n",
       "  </thead>\n",
       "  <tbody>\n",
       "    <tr>\n",
       "      <td>9</td>\n",
       "      <td>-18.074680</td>\n",
       "      <td>-19.676079</td>\n",
       "      <td>-21.052315</td>\n",
       "      <td>-21.596598</td>\n",
       "      <td>-21.580614</td>\n",
       "      <td>-23.643553</td>\n",
       "      <td>-24.154350</td>\n",
       "      <td>-22.210325</td>\n",
       "      <td>-20.224453</td>\n",
       "      <td>-20.864336</td>\n",
       "      <td>...</td>\n",
       "      <td>-18.627945</td>\n",
       "      <td>-20.423378</td>\n",
       "      <td>-19.527126</td>\n",
       "      <td>-19.974916</td>\n",
       "      <td>-19.125187</td>\n",
       "      <td>-20.035051</td>\n",
       "      <td>-19.512945</td>\n",
       "      <td>-19.762545</td>\n",
       "      <td>-13.051805</td>\n",
       "      <td>-5.390477</td>\n",
       "    </tr>\n",
       "    <tr>\n",
       "      <td>4</td>\n",
       "      <td>-7.514073</td>\n",
       "      <td>-6.662798</td>\n",
       "      <td>-6.897815</td>\n",
       "      <td>-7.844941</td>\n",
       "      <td>-7.306717</td>\n",
       "      <td>-8.897575</td>\n",
       "      <td>-9.387383</td>\n",
       "      <td>-10.066462</td>\n",
       "      <td>-11.570973</td>\n",
       "      <td>-12.838842</td>\n",
       "      <td>...</td>\n",
       "      <td>-19.882822</td>\n",
       "      <td>-19.376831</td>\n",
       "      <td>-21.699799</td>\n",
       "      <td>-22.639927</td>\n",
       "      <td>-23.941227</td>\n",
       "      <td>-25.620226</td>\n",
       "      <td>-24.350258</td>\n",
       "      <td>-24.918831</td>\n",
       "      <td>-24.986565</td>\n",
       "      <td>-24.331949</td>\n",
       "    </tr>\n",
       "    <tr>\n",
       "      <td>3</td>\n",
       "      <td>-21.345259</td>\n",
       "      <td>-20.299679</td>\n",
       "      <td>-22.164175</td>\n",
       "      <td>-23.630650</td>\n",
       "      <td>-22.702942</td>\n",
       "      <td>-24.027012</td>\n",
       "      <td>-25.012608</td>\n",
       "      <td>-24.492353</td>\n",
       "      <td>-22.514584</td>\n",
       "      <td>-20.758970</td>\n",
       "      <td>...</td>\n",
       "      <td>-48.629925</td>\n",
       "      <td>-48.629925</td>\n",
       "      <td>-48.629925</td>\n",
       "      <td>-48.629925</td>\n",
       "      <td>-48.629925</td>\n",
       "      <td>-48.629925</td>\n",
       "      <td>-48.629925</td>\n",
       "      <td>0.000000</td>\n",
       "      <td>0.000000</td>\n",
       "      <td>0.000000</td>\n",
       "    </tr>\n",
       "    <tr>\n",
       "      <td>2</td>\n",
       "      <td>-9.027798</td>\n",
       "      <td>-13.212311</td>\n",
       "      <td>-21.835543</td>\n",
       "      <td>-21.280186</td>\n",
       "      <td>-22.559011</td>\n",
       "      <td>-22.057810</td>\n",
       "      <td>-24.048397</td>\n",
       "      <td>-25.234243</td>\n",
       "      <td>-25.344290</td>\n",
       "      <td>-25.535872</td>\n",
       "      <td>...</td>\n",
       "      <td>-47.674599</td>\n",
       "      <td>-47.674599</td>\n",
       "      <td>-47.674599</td>\n",
       "      <td>-47.674599</td>\n",
       "      <td>-47.674599</td>\n",
       "      <td>-47.674599</td>\n",
       "      <td>-47.674599</td>\n",
       "      <td>0.000000</td>\n",
       "      <td>0.000000</td>\n",
       "      <td>0.000000</td>\n",
       "    </tr>\n",
       "    <tr>\n",
       "      <td>7</td>\n",
       "      <td>-8.611604</td>\n",
       "      <td>-9.100842</td>\n",
       "      <td>-10.840145</td>\n",
       "      <td>-10.781713</td>\n",
       "      <td>-11.992739</td>\n",
       "      <td>-16.734877</td>\n",
       "      <td>-21.976036</td>\n",
       "      <td>-22.458759</td>\n",
       "      <td>-21.910828</td>\n",
       "      <td>-23.604235</td>\n",
       "      <td>...</td>\n",
       "      <td>-24.854952</td>\n",
       "      <td>-23.881542</td>\n",
       "      <td>-22.850485</td>\n",
       "      <td>-25.252556</td>\n",
       "      <td>-23.397551</td>\n",
       "      <td>-24.862186</td>\n",
       "      <td>-27.039858</td>\n",
       "      <td>-24.972670</td>\n",
       "      <td>-24.112698</td>\n",
       "      <td>-24.691084</td>\n",
       "    </tr>\n",
       "  </tbody>\n",
       "</table>\n",
       "<p>5 rows × 216 columns</p>\n",
       "</div>"
      ],
      "text/plain": [
       "         0          1          2          3          4          5    \\\n",
       "9 -18.074680 -19.676079 -21.052315 -21.596598 -21.580614 -23.643553   \n",
       "4  -7.514073  -6.662798  -6.897815  -7.844941  -7.306717  -8.897575   \n",
       "3 -21.345259 -20.299679 -22.164175 -23.630650 -22.702942 -24.027012   \n",
       "2  -9.027798 -13.212311 -21.835543 -21.280186 -22.559011 -22.057810   \n",
       "7  -8.611604  -9.100842 -10.840145 -10.781713 -11.992739 -16.734877   \n",
       "\n",
       "         6          7          8          9    ...        206        207  \\\n",
       "9 -24.154350 -22.210325 -20.224453 -20.864336  ... -18.627945 -20.423378   \n",
       "4  -9.387383 -10.066462 -11.570973 -12.838842  ... -19.882822 -19.376831   \n",
       "3 -25.012608 -24.492353 -22.514584 -20.758970  ... -48.629925 -48.629925   \n",
       "2 -24.048397 -25.234243 -25.344290 -25.535872  ... -47.674599 -47.674599   \n",
       "7 -21.976036 -22.458759 -21.910828 -23.604235  ... -24.854952 -23.881542   \n",
       "\n",
       "         208        209        210        211        212        213  \\\n",
       "9 -19.527126 -19.974916 -19.125187 -20.035051 -19.512945 -19.762545   \n",
       "4 -21.699799 -22.639927 -23.941227 -25.620226 -24.350258 -24.918831   \n",
       "3 -48.629925 -48.629925 -48.629925 -48.629925 -48.629925   0.000000   \n",
       "2 -47.674599 -47.674599 -47.674599 -47.674599 -47.674599   0.000000   \n",
       "7 -22.850485 -25.252556 -23.397551 -24.862186 -27.039858 -24.972670   \n",
       "\n",
       "         214        215  \n",
       "9 -13.051805  -5.390477  \n",
       "4 -24.986565 -24.331949  \n",
       "3   0.000000   0.000000  \n",
       "2   0.000000   0.000000  \n",
       "7 -24.112698 -24.691084  \n",
       "\n",
       "[5 rows x 216 columns]"
      ]
     },
     "execution_count": 13,
     "metadata": {},
     "output_type": "execute_result"
    }
   ],
   "source": [
    "audio_features.head()"
   ]
  },
  {
   "cell_type": "code",
   "execution_count": 14,
   "metadata": {},
   "outputs": [
    {
     "data": {
      "text/plain": [
       "array([[[-18.07468033],\n",
       "        [-19.6760788 ],\n",
       "        [-21.05231476],\n",
       "        ...,\n",
       "        [-19.76254463],\n",
       "        [-13.05180454],\n",
       "        [ -5.3904767 ]],\n",
       "\n",
       "       [[ -7.5140729 ],\n",
       "        [ -6.6627984 ],\n",
       "        [ -6.89781475],\n",
       "        ...,\n",
       "        [-24.91883087],\n",
       "        [-24.98656464],\n",
       "        [-24.33194923]],\n",
       "\n",
       "       [[-21.34525871],\n",
       "        [-20.2996788 ],\n",
       "        [-22.16417503],\n",
       "        ...,\n",
       "        [  0.        ],\n",
       "        [  0.        ],\n",
       "        [  0.        ]],\n",
       "\n",
       "       ...,\n",
       "\n",
       "       [[ -9.31606483],\n",
       "        [-13.10586452],\n",
       "        [-18.90342712],\n",
       "        ...,\n",
       "        [-13.18312931],\n",
       "        [-14.63031483],\n",
       "        [-12.95053196]],\n",
       "\n",
       "       [[ -4.44563627],\n",
       "        [ -5.80927563],\n",
       "        [ -8.32289028],\n",
       "        ...,\n",
       "        [-12.39449215],\n",
       "        [-12.50139427],\n",
       "        [-13.84210014]],\n",
       "\n",
       "       [[ -1.72818065],\n",
       "        [ -4.50054741],\n",
       "        [-12.2768259 ],\n",
       "        ...,\n",
       "        [-15.89528751],\n",
       "        [-16.40517426],\n",
       "        [-16.7436142 ]]])"
      ]
     },
     "execution_count": 14,
     "metadata": {},
     "output_type": "execute_result"
    }
   ],
   "source": [
    "audio_features_cnn = np.expand_dims(audio_features, axis = 2)\n",
    "audio_features_cnn"
   ]
  },
  {
   "cell_type": "code",
   "execution_count": 15,
   "metadata": {},
   "outputs": [
    {
     "name": "stdout",
     "output_type": "stream",
     "text": [
      "\r",
      "10/10 [==============================] - 0s 48ms/step\n"
     ]
    }
   ],
   "source": [
    "preds = loaded_model.predict(audio_features_cnn, \n",
    "                             batch_size = 32, \n",
    "                             verbose = 1)"
   ]
  },
  {
   "cell_type": "code",
   "execution_count": 16,
   "metadata": {},
   "outputs": [],
   "source": [
    "def sumProbs(preds):\n",
    "    file = []\n",
    "    for i in range(preds.shape[1]):\n",
    "        temp = []\n",
    "        p_angry = preds[i][0] + preds[i][5]\n",
    "        p_calm = preds[i][1] + preds[i][6]\n",
    "        p_fearful = preds[i][2] + preds[i][7]\n",
    "        p_happy = preds[i][3] + preds[i][8]\n",
    "        p_sad = preds[i][4] + preds[i][9]\n",
    "        temp.append(p_angry)\n",
    "        temp.append(p_calm)\n",
    "        temp.append(p_fearful)\n",
    "        temp.append(p_happy)\n",
    "        temp.append(p_sad)\n",
    "        file.append(temp)\n",
    "    return np.array(file)"
   ]
  },
  {
   "cell_type": "code",
   "execution_count": 17,
   "metadata": {},
   "outputs": [
    {
     "data": {
      "text/plain": [
       "array([[1.80200896e-05, 7.09981975e-08, 8.93785805e-02, 9.09717739e-01,\n",
       "        8.85576243e-04],\n",
       "       [1.02936802e-02, 7.61072649e-10, 9.56698835e-01, 1.93735231e-02,\n",
       "        1.36339050e-02],\n",
       "       [1.17096462e-07, 1.31424639e-16, 9.99628186e-01, 3.71638627e-04,\n",
       "        1.44117305e-08],\n",
       "       [2.59109016e-04, 1.32688547e-05, 6.12308204e-01, 3.10572147e-01,\n",
       "        7.68472254e-02],\n",
       "       [3.88132618e-03, 7.88469225e-14, 9.16556776e-01, 1.50372816e-08,\n",
       "        7.95619488e-02],\n",
       "       [1.86996260e-07, 6.40687454e-14, 3.64633068e-03, 2.91192322e-04,\n",
       "        9.96062219e-01],\n",
       "       [8.83149579e-02, 3.08007939e-20, 8.39964925e-13, 3.67914070e-03,\n",
       "        9.08005953e-01],\n",
       "       [3.56421369e-05, 9.37485367e-11, 9.62090135e-01, 1.01701244e-05,\n",
       "        3.78639922e-02],\n",
       "       [9.32094395e-01, 8.48155422e-13, 2.49118366e-05, 6.78804293e-02,\n",
       "        3.09038313e-07],\n",
       "       [4.60913358e-03, 5.71336242e-11, 9.93434608e-01, 1.92849291e-03,\n",
       "        2.78348452e-05]], dtype=float32)"
      ]
     },
     "execution_count": 17,
     "metadata": {},
     "output_type": "execute_result"
    }
   ],
   "source": [
    "new_preds = sumProbs(preds)\n",
    "new_preds"
   ]
  },
  {
   "cell_type": "code",
   "execution_count": 21,
   "metadata": {},
   "outputs": [
    {
     "name": "stdout",
     "output_type": "stream",
     "text": [
      "[3 2 2 2 2 4 4 2 0 2]\n"
     ]
    }
   ],
   "source": [
    "arg_max = new_preds.argmax(axis = 1)\n",
    "print(arg_max)"
   ]
  },
  {
   "cell_type": "code",
   "execution_count": 25,
   "metadata": {},
   "outputs": [],
   "source": [
    "emotions = {\n",
    "    0: 'angry', \n",
    "    1: 'calm',\n",
    "    2 : 'fearful',\n",
    "    3 : 'happy',\n",
    "    4 : 'sad',\n",
    "}\n",
    "\n",
    "def inverseTransform(preds, emotion_dict):\n",
    "    decoded = []\n",
    "    preds = preds.tolist()\n",
    "    for i in range(len(preds)):\n",
    "        key = preds[i]\n",
    "        filename = file_names[i]\n",
    "        val = emotion_dict[key]\n",
    "        print('file name:', filename, '/', 'CNN prediction:', key, '/', 'predicted emotion:', val)\n",
    "        decoded.append(val) \n",
    "    return filename, key, val\n",
    "        "
   ]
  },
  {
   "cell_type": "code",
   "execution_count": 26,
   "metadata": {},
   "outputs": [
    {
     "name": "stdout",
     "output_type": "stream",
     "text": [
      "file name: She_Said_Michael.wav / CNN prediction: 3 / predicted emotion: happy\n",
      "file name: Snake_Mongoose_Dwight_1.wav / CNN prediction: 2 / predicted emotion: fearful\n",
      "file name: Bankruptcy_Michael_1.wav / CNN prediction: 2 / predicted emotion: fearful\n",
      "file name: Don't_Touch_It_Michael_1.wav / CNN prediction: 2 / predicted emotion: fearful\n",
      "file name: ID_badges_Dwight_1.wav / CNN prediction: 2 / predicted emotion: fearful\n",
      "file name: Crackling_Bacon_Michael_1.wav / CNN prediction: 4 / predicted emotion: sad\n",
      "file name: Deposed_King_Michael_1.wav / CNN prediction: 4 / predicted emotion: sad\n",
      "file name: Stranger_On_Purpose_Dwight_1.wav / CNN prediction: 2 / predicted emotion: fearful\n",
      "file name: Commited_Crime_Dwight_1.wav / CNN prediction: 0 / predicted emotion: angry\n",
      "file name: Ow_Oh_Not_Again_Dwight_1.wav / CNN prediction: 2 / predicted emotion: fearful\n"
     ]
    }
   ],
   "source": [
    "pred_emo = inverseTransform(arg_max, emotions)"
   ]
  },
  {
   "cell_type": "code",
   "execution_count": null,
   "metadata": {},
   "outputs": [],
   "source": []
  },
  {
   "cell_type": "code",
   "execution_count": null,
   "metadata": {},
   "outputs": [],
   "source": []
  }
 ],
 "metadata": {
  "kernelspec": {
   "display_name": "Python 3",
   "language": "python",
   "name": "python3"
  },
  "language_info": {
   "codemirror_mode": {
    "name": "ipython",
    "version": 3
   },
   "file_extension": ".py",
   "mimetype": "text/x-python",
   "name": "python",
   "nbconvert_exporter": "python",
   "pygments_lexer": "ipython3",
   "version": "3.7.4"
  }
 },
 "nbformat": 4,
 "nbformat_minor": 2
}
